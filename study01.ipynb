{
  "cells": [
    {
      "cell_type": "markdown",
      "metadata": {
        "id": "view-in-github",
        "colab_type": "text"
      },
      "source": [
        "<a href=\"https://colab.research.google.com/github/Damlagoleli/Copy_of_Python_101./blob/main/study01.ipynb\" target=\"_parent\"><img src=\"https://colab.research.google.com/assets/colab-badge.svg\" alt=\"Open In Colab\"/></a>"
      ]
    },
    {
      "cell_type": "code",
      "execution_count": null,
      "metadata": {
        "colab": {
          "base_uri": "https://localhost:8080/"
        },
        "id": "JiBnUz1NoBd-",
        "outputId": "de3ae689-11d3-4011-eff3-68ef2da4a0d5"
      },
      "outputs": [
        {
          "name": "stdout",
          "output_type": "stream",
          "text": [
            "cevabınızı yazınsoru1\n",
            "t\n"
          ]
        }
      ],
      "source": [
        "\n",
        "#minitest\n",
        "test=[\"soru1\", \"soru2\",\"soru3\",\"soru4\",\"soru5\"]\n",
        "girilen=input(\"cevabınızı yazın\")\n",
        "if girilen==test[0]:\n",
        "  print(\"t\")\n",
        "elif girilen==test[1]:\n",
        "  print(\"t\")\n",
        "elif girilen==test[2]:\n",
        "  print(\"f\")\n",
        "elif girilen==test[3]:\n",
        "  print(\"f\")\n",
        "elif girilen==test[4]:\n",
        "  print(\"t\")\n",
        "  \n"
      ]
    },
    {
      "cell_type": "code",
      "source": [
        ""
      ],
      "metadata": {
        "id": "YKp_gZJ6Exk5"
      },
      "execution_count": null,
      "outputs": []
    },
    {
      "cell_type": "markdown",
      "metadata": {
        "id": "Y05eNf7goA6b"
      },
      "source": [
        ""
      ]
    },
    {
      "cell_type": "code",
      "source": [
        "liste=[\"nike\",\"adidas\",\"puma\",\"reebok\"]\n",
        "girilen=input(\"marka adını yazınız:\")\n",
        "if girilen ==liste[0]:\n",
        "  print(\"çanta\")\n",
        "elif girilen==liste[1]:\n",
        "  print(\"eşofman\")\n",
        "elif girilen==liste[2]:\n",
        "  print(\"tişört\")\n",
        "elif girilen==liste[3]:\n",
        "  print(\"tayt\")\n",
        "else:\n",
        "  print(\"kayıtlı bir marka girmediniz\")"
      ],
      "metadata": {
        "id": "O_6qYwPhE2Yl"
      },
      "execution_count": null,
      "outputs": []
    },
    {
      "cell_type": "code",
      "execution_count": null,
      "metadata": {
        "id": "s2_JJrVyTp5g"
      },
      "outputs": [],
      "source": [
        "print(\"kelime oyununa hoş geldiniz\")\n",
        "liste=[\"çilek\",\"vişne\",\"karpuz\",\"kiraz\",\"elma\"] \n",
        "for liste in range (3):\n",
        " tahmin=input(\"tahmininizi girin:\")\n",
        "if tahmin in liste :\n",
        "  print(\"doğru tahmin\")\n",
        "  while True:\n",
        "    input(\"tahmininizi girin:\")\n",
        "  \n",
        "\n",
        "  \n",
        "\n",
        "\n",
        "\n",
        "\n",
        "  \n",
        "\n"
      ]
    },
    {
      "cell_type": "code",
      "source": [
        ""
      ],
      "metadata": {
        "id": "oliM-OekJMvW"
      },
      "execution_count": null,
      "outputs": []
    },
    {
      "cell_type": "code",
      "source": [
        "#21mart\n",
        "liste=[\"tavşan\",\"marul\",\"leopar\",\"salam\",\"demir\",\"tahta\"]\n",
        "secim=int(input(\"indeks numarasını girin:\"))\n",
        "if secim<listeToplam:\n",
        "  print(liste[secim])\n",
        "else:\n",
        "  print(\"indeks dışı giriş\")"
      ],
      "metadata": {
        "id": "t8e29joeH3LE"
      },
      "execution_count": null,
      "outputs": []
    },
    {
      "cell_type": "code",
      "execution_count": null,
      "metadata": {
        "id": "TuAVlC0dLSID"
      },
      "outputs": [],
      "source": [
        "print(\"kelime oyunu\")\n",
        "liste =[\"çilek\",\"elma\",\"vişne\",\"kiraz\",\"karpuz\"]\n",
        "puan=0\n",
        "for liste in range(2):\n",
        " tahmin=input(\"tahmin:\")\n",
        "print(\"doğru tahmin\")\n",
        "if tahmin in liste:\n",
        "  puan +=1\n",
        "\n",
        "\n"
      ]
    }
  ],
  "metadata": {
    "colab": {
      "name": "study.ipynb",
      "provenance": [],
      "authorship_tag": "ABX9TyN20Xy2CPs5YWNqwRl2JR30",
      "include_colab_link": true
    },
    "kernelspec": {
      "display_name": "Python 3",
      "name": "python3"
    },
    "language_info": {
      "name": "python"
    }
  },
  "nbformat": 4,
  "nbformat_minor": 0
}